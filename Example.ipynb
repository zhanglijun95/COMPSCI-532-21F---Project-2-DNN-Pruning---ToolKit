{
 "cells": [
  {
   "cell_type": "code",
   "execution_count": 10,
   "metadata": {},
   "outputs": [],
   "source": [
    "import torch\n",
    "import torchvision.models as models\n",
    "from torch.utils.data import DataLoader\n",
    "\n",
    "from cityscapes_dataloader import CityScapes\n",
    "from ASPP import ASPPHead\n",
    "from pixel2pixel_loss import CityScapesCriterions\n",
    "from pixel2pixel_metrics import CityScapesMetrics"
   ]
  },
  {
   "cell_type": "markdown",
   "metadata": {},
   "source": [
    "# Dataloader"
   ]
  },
  {
   "cell_type": "code",
   "execution_count": 18,
   "metadata": {},
   "outputs": [],
   "source": [
    "dataroot = 'D:/Umass/research/PL and policy/code/data/cityscapes/Cityscapes/cityscapes/' # change to your data root\n",
    "\n",
    "task = 'segment_semantic' # or depth_zbuffer\n",
    "\n",
    "dataset = CityScapes(dataroot, 'train', task, crop_h=224, crop_w=224)\n",
    "trainDataloader = DataLoader(dataset, 16, shuffle=True)\n",
    "\n",
    "dataset = CityScapes(dataroot, 'val', task, crop_h=224, crop_w=224)\n",
    "valDataloader = DataLoader(dataset, 16, shuffle=True)"
   ]
  },
  {
   "cell_type": "markdown",
   "metadata": {},
   "source": [
    "# Backbone and Head"
   ]
  },
  {
   "cell_type": "code",
   "execution_count": 24,
   "metadata": {},
   "outputs": [],
   "source": [
    "resnet18 = models.resnet18(pretrained=True)\n",
    "backbone = torch.nn.Sequential(*(list(resnet18.children())[:-1])) # extract feature maps from resnet18\n",
    "\n",
    "feature_channel = 512 # change to the correct feature channel if you use different backbone models\n",
    "task_cls_num = 19 # segment_semantic: 19, depth_zbuffer: 1\n",
    "head = ASPPHead(feature_channel, task_cls_num)"
   ]
  },
  {
   "cell_type": "code",
   "execution_count": 25,
   "metadata": {},
   "outputs": [],
   "source": [
    "for idx, item in enumerate(trainDataloader):\n",
    "    feature = backbone(item['input'])\n",
    "    pred = head(feature)\n",
    "    break"
   ]
  },
  {
   "cell_type": "markdown",
   "metadata": {},
   "source": [
    "# Loss (Criterion) and Accuracy"
   ]
  },
  {
   "cell_type": "code",
   "execution_count": 17,
   "metadata": {},
   "outputs": [],
   "source": [
    "criterion = CityScapesCriterions(task)\n",
    "metric = CityScapesMetrics(task)"
   ]
  },
  {
   "cell_type": "code",
   "execution_count": 31,
   "metadata": {},
   "outputs": [
    {
     "name": "stdout",
     "output_type": "stream",
     "text": [
      "tensor(3.0053, grad_fn=<NllLossBackward>)\n"
     ]
    }
   ],
   "source": [
    "# loss is computed for each batch\n",
    "loss = criterion(pred, item['label'])\n",
    "print(loss)"
   ]
  },
  {
   "cell_type": "code",
   "execution_count": 32,
   "metadata": {},
   "outputs": [
    {
     "name": "stdout",
     "output_type": "stream",
     "text": [
      "{'mIoU': 0.0044, 'Pixel Acc': 0.0042}\n"
     ]
    }
   ],
   "source": [
    "# acc is computed for several batches then average on them\n",
    "metric(pred, item['label']) # call for every batch\n",
    "acc = metric.val_metrics() # call after several batches\n",
    "print(acc)"
   ]
  }
 ],
 "metadata": {
  "kernelspec": {
   "display_name": "Python 3",
   "language": "python",
   "name": "python3"
  },
  "language_info": {
   "codemirror_mode": {
    "name": "ipython",
    "version": 3
   },
   "file_extension": ".py",
   "mimetype": "text/x-python",
   "name": "python",
   "nbconvert_exporter": "python",
   "pygments_lexer": "ipython3",
   "version": "3.6.12"
  }
 },
 "nbformat": 4,
 "nbformat_minor": 4
}
